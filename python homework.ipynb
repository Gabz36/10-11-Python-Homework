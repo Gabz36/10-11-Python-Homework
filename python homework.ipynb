{
 "cells": [
  {
   "cell_type": "code",
   "execution_count": 5,
   "id": "9f9df9e4",
   "metadata": {},
   "outputs": [
    {
     "name": "stdout",
     "output_type": "stream",
     "text": [
      "0.04\n",
      "0.0005736377694691845\n",
      "0.022360679774997897\n",
      "2.6679158534625724e-05\n"
     ]
    }
   ],
   "source": [
    "import numpy as np\n",
    "\n",
    "#Rule 1\n",
    "def rule1(c,dA):\n",
    "    dQ1 = c*dA\n",
    "    return dQ1\n",
    "#Rule 1 Test\n",
    "c = 4\n",
    "dA = 0.01\n",
    "dx1 = rule1(c,dA)\n",
    "print(dx1)\n",
    "\n",
    "#Rule 2\n",
    "def rule2(c,m,A,dA):\n",
    "    dQ2 = c*m*(A**(m-1))*dA\n",
    "    return dQ2\n",
    "#Rule 2 Test\n",
    "c=2\n",
    "m=0.3\n",
    "A=77\n",
    "dA=0.02\n",
    "dx2 = rule2(c,m,A,dA)\n",
    "print(dx2)\n",
    "\n",
    "#Rule 3\n",
    "def rule3(dA, dB):\n",
    "    dQ3 = np.sqrt(dA**2+dB**2)\n",
    "    return dQ3\n",
    "#Rule 3 Test\n",
    "dA = 0.01\n",
    "dB = 0.02\n",
    "dx3 = rule3(dA, dB)\n",
    "print(dx3)\n",
    "\n",
    "#Rule 4\n",
    "def rule4(m,n,A,B,dA,dB):\n",
    "    dQ4 = np.sqrt((((m*dA)/A)**2)+(((n*dB)/B)**2))\n",
    "    return dQ4\n",
    "#Rule 4 Test\n",
    "m = 0.04\n",
    "n = 0.023\n",
    "A = 98\n",
    "B = 105\n",
    "dA = 0.002\n",
    "dB = 0.07\n",
    "dx4 = rule4(m,n,A,B,dA,dB)\n",
    "print(dx4)"
   ]
  },
  {
   "cell_type": "code",
   "execution_count": 8,
   "id": "dcbb8fbc",
   "metadata": {},
   "outputs": [
    {
     "name": "stdout",
     "output_type": "stream",
     "text": [
      "0.006009659392142002\n"
     ]
    }
   ],
   "source": [
    "#Recalculation of Vsubi from last weeks lab\n",
    "def rule4(m,n,A,B,dA,dB):\n",
    "    dQ4 = np.sqrt((((m*dA)/A)**2)+(((n*dB)/B)**2))\n",
    "    return dQ4\n",
    "#Rule 4 Test\n",
    "m = 1\n",
    "n = 1\n",
    "A = 0.99\n",
    "B = 2.1369\n",
    "dA = 0.005\n",
    "dB = 0.00696\n",
    "dx4 = rule4(m,n,A,B,dA,dB)\n",
    "print(dx4)"
   ]
  },
  {
   "cell_type": "markdown",
   "id": "01cd7eaa",
   "metadata": {},
   "source": [
    "My hand-done calculation for the uncertainty in V_i matches the above calculation!!"
   ]
  },
  {
   "cell_type": "code",
   "execution_count": 9,
   "id": "91f712d1",
   "metadata": {},
   "outputs": [
    {
     "name": "stdout",
     "output_type": "stream",
     "text": [
      "1.1166666666666667 0.10363754503432018\n"
     ]
    }
   ],
   "source": [
    "#Average of a dataset\n",
    "x = np.array([1.1,1.3,1.4,0.9,0.95,1.05])\n",
    "\n",
    "avg_x = np.average(x)\n",
    "err_x = np.std(x)/np.sqrt(3)\n",
    "\n",
    "print(avg_x,err_x)"
   ]
  },
  {
   "cell_type": "markdown",
   "id": "ba004904",
   "metadata": {},
   "source": [
    "The average for the provided data set was 1.1, and the error is 0.10"
   ]
  },
  {
   "cell_type": "markdown",
   "id": "fee0143a",
   "metadata": {},
   "source": [
    "$Q= \\sqrt{(\\delta A)^{2}+(\\delta B)^{2}}$"
   ]
  },
  {
   "cell_type": "markdown",
   "id": "d4394beb",
   "metadata": {},
   "source": [
    "$ \\delta V_{i} = \\sqrt{(\\frac{0.005}{0.99})^{2}+(\\frac{0.00696}{2.1369})^{2}}= \\pm 0.006m $\n"
   ]
  },
  {
   "cell_type": "code",
   "execution_count": null,
   "id": "0f2d32bd",
   "metadata": {},
   "outputs": [],
   "source": []
  }
 ],
 "metadata": {
  "kernelspec": {
   "display_name": "Python 3",
   "language": "python",
   "name": "python3"
  },
  "language_info": {
   "codemirror_mode": {
    "name": "ipython",
    "version": 3
   },
   "file_extension": ".py",
   "mimetype": "text/x-python",
   "name": "python",
   "nbconvert_exporter": "python",
   "pygments_lexer": "ipython3",
   "version": "3.8.8"
  }
 },
 "nbformat": 4,
 "nbformat_minor": 5
}
